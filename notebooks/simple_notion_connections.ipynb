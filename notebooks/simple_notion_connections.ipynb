{
 "cells": [
  {
   "cell_type": "markdown",
   "metadata": {},
   "source": [
    "# Simple Notion Connections\n",
    "\n",
    "We want to:\n",
    "- Connect via notion SDK\n",
    "- Query db with a filter\n",
    "- Create a test card and push it\n",
    "- Edit hours on a card and push changes\n",
    "- check that notion updates the last edited field\n"
   ]
  },
  {
   "cell_type": "code",
   "execution_count": 1,
   "metadata": {},
   "outputs": [],
   "source": [
    "import requests\n",
    "import json\n",
    "import notion_client\n",
    "import os\n",
    "from dotenv import load_dotenv\n",
    "load_dotenv()\n",
    "\n",
    "NOTION_TOKEN = os.getenv('NOTION_TOKEN')\n",
    "DATABASE_ID = os.getenv('DATABASE_ID')\n",
    "\n",
    "headers = {\n",
    "    \"Authorization\": \"Bearer \" + NOTION_TOKEN,\n",
    "    \"Content-Type\": \"application/json\",\n",
    "    \"Notion-Version\": \"2022-06-28\",\n",
    "}"
   ]
  },
  {
   "cell_type": "markdown",
   "metadata": {},
   "source": [
    "#### Connect to notion and grab some pages"
   ]
  },
  {
   "cell_type": "code",
   "execution_count": 2,
   "metadata": {},
   "outputs": [],
   "source": [
    "# manual request\n",
    "num_pages = 10\n",
    "get_url = f\"https://api.notion.com/v1/databases/{DATABASE_ID}/query\"\n",
    "payload = {\"page_size\": num_pages}\n",
    "response = requests.post(get_url, json=payload, headers=headers)"
   ]
  },
  {
   "cell_type": "code",
   "execution_count": null,
   "metadata": {},
   "outputs": [],
   "source": [
    "response.json()['results'][0]['properties']['Tickets']['title'][0]['plain_text']"
   ]
  },
  {
   "cell_type": "markdown",
   "metadata": {},
   "source": [
    "#### Query a db with a filter\n",
    "\n",
    "will also use the notion python sdk this time"
   ]
  },
  {
   "cell_type": "code",
   "execution_count": 6,
   "metadata": {},
   "outputs": [],
   "source": [
    "# with SDK\n",
    "notion = notion_client.Client(auth=NOTION_TOKEN)"
   ]
  },
  {
   "cell_type": "code",
   "execution_count": 7,
   "metadata": {},
   "outputs": [],
   "source": [
    "query_data = {\n",
    "        \"database_id\": DATABASE_ID,\n",
    "        \"filter\": {\"property\": \"Tickets\",\"title\": {\"contains\": \"Icebreaker\"}}\n",
    "    }\n",
    "\n",
    "my_pages = notion.databases.query(**query_data).get(\"results\")\n"
   ]
  },
  {
   "cell_type": "code",
   "execution_count": null,
   "metadata": {},
   "outputs": [],
   "source": [
    "for page in my_pages:\n",
    "    print(page['properties']['Tickets']['title'][0]['plain_text'])"
   ]
  },
  {
   "cell_type": "code",
   "execution_count": null,
   "metadata": {},
   "outputs": [],
   "source": [
    "page['properties']['Sprint']['multi_select'][0]['name']"
   ]
  },
  {
   "cell_type": "code",
   "execution_count": null,
   "metadata": {},
   "outputs": [],
   "source": [
    "page['properties']['Status']['status']['name']"
   ]
  },
  {
   "cell_type": "markdown",
   "metadata": {},
   "source": [
    "Let's try filter on a sprint now instead"
   ]
  },
  {
   "cell_type": "code",
   "execution_count": 14,
   "metadata": {},
   "outputs": [],
   "source": [
    "query_data = {\n",
    "        \"database_id\": DATABASE_ID,\n",
    "        \"filter\": {\"property\": \"Sprint\",\"multi_select\": {\"contains\": \"Sprint 51\"}}\n",
    "    }\n",
    "\n",
    "my_pages = notion.databases.query(**query_data).get(\"results\")\n"
   ]
  },
  {
   "cell_type": "code",
   "execution_count": null,
   "metadata": {},
   "outputs": [],
   "source": [
    "len(my_pages)"
   ]
  },
  {
   "cell_type": "code",
   "execution_count": null,
   "metadata": {},
   "outputs": [],
   "source": [
    "for page in my_pages:\n",
    "    print(page['properties']['Tickets']['title'][0]['plain_text'])"
   ]
  },
  {
   "cell_type": "markdown",
   "metadata": {},
   "source": [
    "Filter on a both a status and a sprint"
   ]
  },
  {
   "cell_type": "code",
   "execution_count": 38,
   "metadata": {},
   "outputs": [],
   "source": [
    "query_data = {\n",
    "    \"database_id\": DATABASE_ID,\n",
    "    \"filter\": {\n",
    "        \"and\": [\n",
    "            {\n",
    "                \"property\": \"Sprint\",\n",
    "                \"multi_select\": {\n",
    "                    \"contains\": \"Sprint 51\"\n",
    "                }\n",
    "            },\n",
    "            {\n",
    "                \"property\": \"Status\",\n",
    "                \"status\": {\n",
    "                    \"equals\": \"In Progress\"\n",
    "                }\n",
    "            }\n",
    "        ]\n",
    "    }\n",
    "}\n",
    "\n",
    "my_pages = notion.databases.query(**query_data).get(\"results\")\n"
   ]
  },
  {
   "cell_type": "markdown",
   "metadata": {},
   "source": [
    "Best way to structure it will probably be by building the JSON query/payload and then it's compatible with a direct request or using the notion client"
   ]
  },
  {
   "cell_type": "code",
   "execution_count": null,
   "metadata": {},
   "outputs": [],
   "source": [
    "query_data"
   ]
  },
  {
   "cell_type": "code",
   "execution_count": null,
   "metadata": {},
   "outputs": [],
   "source": [
    "for page in my_pages:\n",
    "    print(page['properties']['Tickets']['title'][0]['plain_text'])"
   ]
  },
  {
   "cell_type": "code",
   "execution_count": 107,
   "metadata": {},
   "outputs": [],
   "source": [
    "# Using a straight http post request\n",
    "\n",
    "query_url = f\"https://api.notion.com/v1/databases/{DATABASE_ID}/query\"\n",
    "payload = {\"filter\": {\n",
    "        \"and\": [\n",
    "            {\n",
    "                \"property\": \"Sprint\",\n",
    "                \"multi_select\": {\n",
    "                    \"contains\": \"Sprint 51\"\n",
    "                }\n",
    "            },\n",
    "            {\n",
    "                \"property\": \"Status\",\n",
    "                \"status\": {\n",
    "                    \"equals\": \"In Progress\"\n",
    "                }\n",
    "            }\n",
    "        ]\n",
    "    }}\n",
    "response = requests.post(get_url, json=payload, headers=headers)\n",
    "\n",
    "my_pages = response.json()['results']"
   ]
  },
  {
   "cell_type": "code",
   "execution_count": null,
   "metadata": {},
   "outputs": [],
   "source": [
    "for page in my_pages:\n",
    "    print(page['properties']['Tickets']['title'][0]['plain_text'])"
   ]
  },
  {
   "cell_type": "markdown",
   "metadata": {},
   "source": [
    "#### Create a test card and push it"
   ]
  },
  {
   "cell_type": "code",
   "execution_count": 78,
   "metadata": {},
   "outputs": [],
   "source": [
    "test_page = { \n",
    " 'Time Assigned': {'id': 'LJ%40r', 'type': 'number', 'number': 69},\n",
    " 'Tickets': {'id': 'title',\n",
    "  'type': 'title',\n",
    "  'title': [{'type': 'text',\n",
    "    'text': {'content': 'Test Card', 'link': None},\n",
    "    'annotations': {'bold': False,\n",
    "     'italic': False,\n",
    "     'strikethrough': False,\n",
    "     'underline': False,\n",
    "     'code': False,\n",
    "     'color': 'default'},\n",
    "    'plain_text': 'Test Card',\n",
    "    'href': None}]}}"
   ]
  },
  {
   "cell_type": "code",
   "execution_count": 120,
   "metadata": {},
   "outputs": [],
   "source": [
    "newcard = my_pages[0][\"properties\"].copy()"
   ]
  },
  {
   "cell_type": "code",
   "execution_count": null,
   "metadata": {},
   "outputs": [],
   "source": [
    "newcard[\"Priority\"]"
   ]
  },
  {
   "cell_type": "code",
   "execution_count": null,
   "metadata": {},
   "outputs": [],
   "source": [
    "newcard[\"Priority\"]"
   ]
  },
  {
   "cell_type": "code",
   "execution_count": null,
   "metadata": {},
   "outputs": [],
   "source": [
    "newcard.keys()"
   ]
  },
  {
   "cell_type": "code",
   "execution_count": null,
   "metadata": {},
   "outputs": [],
   "source": [
    "newcard"
   ]
  },
  {
   "cell_type": "code",
   "execution_count": null,
   "metadata": {},
   "outputs": [],
   "source": [
    "\n",
    "newcard = my_pages[0][\"properties\"].copy()\n",
    "# newcard = {\"properties\": newproperties}\n",
    "newcard[\"Tickets\"][\"title\"][0][\"text\"][\"content\"] = \"Notime Icebreaker New\"\n",
    "newcard[\"Tickets\"][\"title\"][0][\"plain_text\"] = \"Notime Icebreaker New\"\n",
    "\n",
    "# Formulas need to be removed, will be auto-calculated and can't be set\n",
    "keys_to_remove = ['Allocation', 'Status Number', 'Time Left', 'Priority Number', 'Hours Completed', 'Created']\n",
    "for k in keys_to_remove:\n",
    "    newcard.pop(k, None)\n",
    "\n",
    "notion.pages.create(parent={\"database_id\": DATABASE_ID}, properties=newcard)\n"
   ]
  },
  {
   "cell_type": "code",
   "execution_count": null,
   "metadata": {},
   "outputs": [],
   "source": [
    "newcard"
   ]
  },
  {
   "cell_type": "code",
   "execution_count": null,
   "metadata": {},
   "outputs": [],
   "source": [
    "notion.pages.create(parent={\"database_id\": DATABASE_ID}, properties=newcard)"
   ]
  },
  {
   "cell_type": "code",
   "execution_count": 19,
   "metadata": {},
   "outputs": [],
   "source": [
    "# Using a straight http post request\n",
    "\n",
    "test_page = { \n",
    " 'Time Assigned': {'id': 'LJ%40r', 'type': 'number', 'number': 69},\n",
    " 'Tickets': {'id': 'title',\n",
    "  'type': 'title',\n",
    "  'title': [{'type': 'text',\n",
    "    'text': {'content': 'Test Card 2', 'link': None},\n",
    "    'annotations': {'bold': False,\n",
    "     'italic': False,\n",
    "     'strikethrough': False,\n",
    "     'underline': False,\n",
    "     'code': False,\n",
    "     'color': 'default'},\n",
    "    'plain_text': 'Test Card 2',\n",
    "    'href': None}]}}\n",
    "\n",
    "create_url = f\"https://api.notion.com/v1/pages\"\n",
    "payload = {\n",
    "    \"parent\": {\"database_id\": DATABASE_ID},\n",
    "    \"properties\": test_page\n",
    "}\n",
    "response = requests.post(create_url, json=payload, headers=headers)"
   ]
  },
  {
   "cell_type": "code",
   "execution_count": null,
   "metadata": {},
   "outputs": [],
   "source": [
    "response"
   ]
  },
  {
   "cell_type": "markdown",
   "metadata": {},
   "source": [
    "#### Edit hours on a card and push changes"
   ]
  },
  {
   "cell_type": "code",
   "execution_count": null,
   "metadata": {},
   "outputs": [],
   "source": [
    "print(f\"The card `{my_pages[0]['properties']['Tickets']['title'][0]['plain_text']}` currently has {my_pages[0]['properties']['Time Spent']['number']} hours logged\")"
   ]
  },
  {
   "cell_type": "code",
   "execution_count": 22,
   "metadata": {},
   "outputs": [],
   "source": [
    "# First with a http request PATCH call\n",
    "page_id = my_pages[0]['id']\n",
    "\n",
    "update_url = f\"https://api.notion.com/v1/pages/{page_id}\"\n",
    "payload = {\"properties\": {\"Time Spent\": { \"number\": 2 }}}\n",
    "\n",
    "response = requests.patch(update_url, headers=headers, json=payload)"
   ]
  },
  {
   "cell_type": "code",
   "execution_count": null,
   "metadata": {},
   "outputs": [],
   "source": [
    "# let's fetch that card again and check the hours logged\n",
    "updated_page = notion.pages.retrieve(page_id=id)\n",
    "\n",
    "print(f\"The card `{updated_page['properties']['Tickets']['title'][0]['plain_text']}` currently has {updated_page['properties']['Time Spent']['number']} hours logged\")"
   ]
  },
  {
   "cell_type": "code",
   "execution_count": null,
   "metadata": {},
   "outputs": [],
   "source": [
    "# and using the notion sdk\n",
    "payload = {\n",
    "    \"page_id\": id,\n",
    "    \"properties\": {\"Time Spent\": { \"number\": 3 }}\n",
    "}\n",
    "notion.pages.update(**payload)"
   ]
  },
  {
   "cell_type": "code",
   "execution_count": null,
   "metadata": {},
   "outputs": [],
   "source": [
    "# let's fetch that card again and check the hours logged\n",
    "updated_page = notion.pages.retrieve(page_id=id)\n",
    "\n",
    "print(f\"The card `{updated_page['properties']['Tickets']['title'][0]['plain_text']}` currently has {updated_page['properties']['Time Spent']['number']} hours logged\")"
   ]
  },
  {
   "cell_type": "markdown",
   "metadata": {},
   "source": [
    "#### check that notion updates the last edited field"
   ]
  },
  {
   "cell_type": "code",
   "execution_count": null,
   "metadata": {},
   "outputs": [],
   "source": [
    "updated_page['last_edited_time']"
   ]
  },
  {
   "cell_type": "code",
   "execution_count": null,
   "metadata": {},
   "outputs": [],
   "source": [
    "updated_page['last_edited_by']"
   ]
  }
 ],
 "metadata": {
  "kernelspec": {
   "display_name": "notime-env",
   "language": "python",
   "name": "notime-env"
  },
  "language_info": {
   "codemirror_mode": {
    "name": "ipython",
    "version": 3
   },
   "file_extension": ".py",
   "mimetype": "text/x-python",
   "name": "python",
   "nbconvert_exporter": "python",
   "pygments_lexer": "ipython3",
   "version": "3.8.19"
  }
 },
 "nbformat": 4,
 "nbformat_minor": 2
}
